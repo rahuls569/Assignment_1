{
  "cells": [
    {
      "cell_type": "markdown",
      "metadata": {
        "id": "view-in-github",
        "colab_type": "text"
      },
      "source": [
        "<a href=\"https://colab.research.google.com/github/rahuls569/Assignment_1/blob/main/assignment_1.ipynb\" target=\"_parent\"><img src=\"https://colab.research.google.com/assets/colab-badge.svg\" alt=\"Open In Colab\"/></a>"
      ]
    },
    {
      "cell_type": "code",
      "execution_count": null,
      "metadata": {
        "id": "QmihiYh44c3b"
      },
      "outputs": [],
      "source": []
    },
    {
      "cell_type": "markdown",
      "metadata": {
        "id": "cs8t5vd9Ha6P"
      },
      "source": [
        "!pip install torch is used to install the pytorch \\\n",
        "To import the PyTorch library in your Python code, you can use the import statement as follows: import torch\n",
        "Training is happening on GPU\n",
        "![image.png](data:image/png;base64,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)"
      ]
    },
    {
      "cell_type": "code",
      "execution_count": null,
      "metadata": {
        "colab": {
          "base_uri": "https://localhost:8080/"
        },
        "id": "Ooif3IzoGcoY",
        "outputId": "765b83f9-387d-4036-c9f6-ccdbf746e7f4"
      },
      "outputs": [
        {
          "output_type": "stream",
          "name": "stdout",
          "text": [
            "Looking in indexes: https://pypi.org/simple, https://us-python.pkg.dev/colab-wheels/public/simple/\n",
            "Requirement already satisfied: torch in /usr/local/lib/python3.8/dist-packages (1.13.0+cu116)\n",
            "Requirement already satisfied: typing-extensions in /usr/local/lib/python3.8/dist-packages (from torch) (4.4.0)\n"
          ]
        }
      ],
      "source": [
        "!pip install torch\n",
        "import torch"
      ]
    },
    {
      "cell_type": "code",
      "execution_count": null,
      "metadata": {
        "id": "xKYE7VC-HpJR"
      },
      "outputs": [],
      "source": [
        "import torchvision \n",
        "import torchvision.transforms as transforms"
      ]
    },
    {
      "cell_type": "markdown",
      "metadata": {
        "id": "NPO6lFstZ_OU"
      },
      "source": [
        "To import the PyTorch vision library (torchvision) in your Python code, you can use the import statement as follows:**import torchvision** \\\n",
        "It provides access to datasets, models, transforms, utils, etc\n"
      ]
    },
    {
      "cell_type": "code",
      "execution_count": null,
      "metadata": {
        "colab": {
          "base_uri": "https://localhost:8080/",
          "height": 443,
          "referenced_widgets": [
            "d951b9fe87394c4e95bc298c9e369065",
            "b3e68d621b0d4c059a8dea1d0a4e2284",
            "6e3a8b78f64d486994dbdf1b2c39a943",
            "f241132dbad74a609cfc9315795e1d7a",
            "4d41a622be504ebca06b067e4ca8bee8",
            "d1c0a2f5bb40486d98558f19b972d10a",
            "cf6bbcfdb7154e91bf9841049f8c83c5",
            "2386fb16cbf3419591084857367d181c",
            "c7de6d1a93b344f5beccbf7cb8afaf8d",
            "6221ffb48b494a17afe295d44a0525a1",
            "b64ff01db3f546108d3a06404b82e880",
            "b90b142abc244ee694c472ebc26884ce",
            "f9be943014114638a8ba0b2e2c5bb5ac",
            "ea845581968244ad934eacc24bfa9018",
            "f4b2a9a4b5b047eeb1410cd66e30905d",
            "ea23e0c3627f4441ab287abb45e8b51a",
            "170db32906c045799ba33c8f4c4701fa",
            "2c012fb8bfc148ca8c3bfd45feae181a",
            "27e411b5f72e4e2d8b51925933aed506",
            "bc10cc5930b2471f9f7a0f084d317cb2",
            "ff63da6f7525447eb932c97505d12b14",
            "8dd7bfc6be8245d9a089cd1981891b68",
            "c55e98f6330b4a11affb448811b2c6be",
            "2a0574a534394a9f86f0aef304ee9b58",
            "23e209fb87ea4060b7ec901128b8f6b8",
            "a1f46ed80b974a509c9b59ec90caa54b",
            "2b6d03ad72eb4d60977e10082a7ba1ed",
            "8265306a1d8c4d33b430921eea0ecc2f",
            "448c3e0253be497aaf144a0199bb1b4e",
            "c69585dc1a5649be8e3dec913add857c",
            "7339a3f77ba243d9b14c4bb75a462b20",
            "853c5bae02fe47118df8cdba406905cd",
            "e9107afe57fb40cc8e968c98a496e7d6",
            "96cb9b06e1f640b2b5a0d88d8d6b2645",
            "f5a395f5b2314cba97233f434a52ffe7",
            "55dbe2ee8e514a6bbea56671c28a7dc0",
            "a54cf2811c4842c8aff90851f5b7024a",
            "ff1e7ff4d5fc431d807364529e3ed400",
            "e69fe312c3894e28ac2ef419d5f44af2",
            "57736870189d4f6b837ae37831296968",
            "8ac8e6735ddc4f80a102168dec277d89",
            "b8e3585f170b45039ff30d1285eab9f2",
            "a1dd38398f504b6c9671b3cb7e31a574",
            "931daafabb9846e3b1d9551f39af55ff"
          ]
        },
        "id": "P7uDh0W4dfAF",
        "outputId": "cbc12324-f568-49c8-e243-bf49aa5f1f50"
      },
      "outputs": [
        {
          "output_type": "stream",
          "name": "stdout",
          "text": [
            "Downloading http://yann.lecun.com/exdb/mnist/train-images-idx3-ubyte.gz\n",
            "Downloading http://yann.lecun.com/exdb/mnist/train-images-idx3-ubyte.gz to ./data/MNIST/raw/train-images-idx3-ubyte.gz\n"
          ]
        },
        {
          "output_type": "display_data",
          "data": {
            "text/plain": [
              "  0%|          | 0/9912422 [00:00<?, ?it/s]"
            ],
            "application/vnd.jupyter.widget-view+json": {
              "version_major": 2,
              "version_minor": 0,
              "model_id": "d951b9fe87394c4e95bc298c9e369065"
            }
          },
          "metadata": {}
        },
        {
          "output_type": "stream",
          "name": "stdout",
          "text": [
            "Extracting ./data/MNIST/raw/train-images-idx3-ubyte.gz to ./data/MNIST/raw\n",
            "\n",
            "Downloading http://yann.lecun.com/exdb/mnist/train-labels-idx1-ubyte.gz\n",
            "Downloading http://yann.lecun.com/exdb/mnist/train-labels-idx1-ubyte.gz to ./data/MNIST/raw/train-labels-idx1-ubyte.gz\n"
          ]
        },
        {
          "output_type": "display_data",
          "data": {
            "text/plain": [
              "  0%|          | 0/28881 [00:00<?, ?it/s]"
            ],
            "application/vnd.jupyter.widget-view+json": {
              "version_major": 2,
              "version_minor": 0,
              "model_id": "b90b142abc244ee694c472ebc26884ce"
            }
          },
          "metadata": {}
        },
        {
          "output_type": "stream",
          "name": "stdout",
          "text": [
            "Extracting ./data/MNIST/raw/train-labels-idx1-ubyte.gz to ./data/MNIST/raw\n",
            "\n",
            "Downloading http://yann.lecun.com/exdb/mnist/t10k-images-idx3-ubyte.gz\n",
            "Downloading http://yann.lecun.com/exdb/mnist/t10k-images-idx3-ubyte.gz to ./data/MNIST/raw/t10k-images-idx3-ubyte.gz\n"
          ]
        },
        {
          "output_type": "display_data",
          "data": {
            "text/plain": [
              "  0%|          | 0/1648877 [00:00<?, ?it/s]"
            ],
            "application/vnd.jupyter.widget-view+json": {
              "version_major": 2,
              "version_minor": 0,
              "model_id": "c55e98f6330b4a11affb448811b2c6be"
            }
          },
          "metadata": {}
        },
        {
          "output_type": "stream",
          "name": "stdout",
          "text": [
            "Extracting ./data/MNIST/raw/t10k-images-idx3-ubyte.gz to ./data/MNIST/raw\n",
            "\n",
            "Downloading http://yann.lecun.com/exdb/mnist/t10k-labels-idx1-ubyte.gz\n",
            "Downloading http://yann.lecun.com/exdb/mnist/t10k-labels-idx1-ubyte.gz to ./data/MNIST/raw/t10k-labels-idx1-ubyte.gz\n"
          ]
        },
        {
          "output_type": "display_data",
          "data": {
            "text/plain": [
              "  0%|          | 0/4542 [00:00<?, ?it/s]"
            ],
            "application/vnd.jupyter.widget-view+json": {
              "version_major": 2,
              "version_minor": 0,
              "model_id": "96cb9b06e1f640b2b5a0d88d8d6b2645"
            }
          },
          "metadata": {}
        },
        {
          "output_type": "stream",
          "name": "stdout",
          "text": [
            "Extracting ./data/MNIST/raw/t10k-labels-idx1-ubyte.gz to ./data/MNIST/raw\n",
            "\n"
          ]
        }
      ],
      "source": [
        "train_set = torchvision.datasets.MNIST(\n",
        "    root='./data'\n",
        "    ,train=True\n",
        "    ,download=True\n",
        "    ,transform=transforms.Compose([\n",
        "        transforms.ToTensor()\n",
        "    ])\n",
        ")\n"
      ]
    },
    {
      "cell_type": "code",
      "execution_count": null,
      "metadata": {
        "colab": {
          "base_uri": "https://localhost:8080/",
          "height": 300
        },
        "id": "ZSPwSV7Tq1vN",
        "outputId": "070bf149-0b12-4e3c-97f0-de4ddef736a2"
      },
      "outputs": [
        {
          "output_type": "stream",
          "name": "stdout",
          "text": [
            "label: 5\n",
            "image size: torch.Size([1, 28, 28])\n"
          ]
        },
        {
          "output_type": "display_data",
          "data": {
            "text/plain": [
              "<Figure size 432x288 with 1 Axes>"
            ],
            "image/png": "[encoded data removed]"
          },
          "metadata": {
            "needs_background": "light"
          }
        }
      ],
      "source": [
        "sample = next(iter(train_set))\n",
        "image, label=sample\n",
        "import numpy as np\n",
        "import matplotlib.pyplot as plt\n",
        "torch.set_printoptions(linewidth=120)\n",
        "plt.imshow(image.squeeze(), cmap='gray')\n",
        "print('label:', label)\n",
        "print('image size:', image.shape)"
      ]
    },
    {
      "cell_type": "code",
      "execution_count": null,
      "metadata": {
        "colab": {
          "base_uri": "https://localhost:8080/"
        },
        "id": "wfuaQNE9e1he",
        "outputId": "fe564c25-2fda-453b-f0fd-3a4a025bdfe9"
      },
      "outputs": [
        {
          "output_type": "execute_result",
          "data": {
            "text/plain": [
              "(torch.Size([32, 1, 28, 28]), torch.Size([32]))"
            ]
          },
          "metadata": {},
          "execution_count": 5
        }
      ],
      "source": [
        "train_loader = torch.utils.data.DataLoader(\n",
        "    train_set, \n",
        "    batch_size=32,\n",
        "    shuffle=True\n",
        ")\n",
        "batch = next(iter(train_loader))\n",
        "images, labels = batch\n",
        "images.shape, labels.shape"
      ]
    },
    {
      "cell_type": "code",
      "execution_count": null,
      "metadata": {
        "colab": {
          "base_uri": "https://localhost:8080/",
          "height": 387
        },
        "id": "7jCQXngAwq31",
        "outputId": "9b058cc0-16b3-4ec3-ead5-4099dc26f6a4"
      },
      "outputs": [
        {
          "output_type": "stream",
          "name": "stdout",
          "text": [
            "labels: tensor([3, 9, 0, 0, 1, 5, 6, 7, 7, 4, 7, 3, 2, 4, 9, 7, 3, 1, 7, 1, 2, 1, 8, 2, 1, 2, 1, 0, 9, 7, 4, 4])\n"
          ]
        },
        {
          "output_type": "display_data",
          "data": {
            "text/plain": [
              "<Figure size 1080x1080 with 1 Axes>"
            ],
            "image/png": "[encoded data removed]"
          },
          "metadata": {
            "needs_background": "light"
          }
        }
      ],
      "source": [
        "grid = torchvision.utils.make_grid(images, nrow=10)\n",
        "plt.figure(figsize=(15,15))\n",
        "plt.imshow(np.transpose(grid, (1,2,0)))\n",
        "print('labels:', labels)"
      ]
    },
    {
      "cell_type": "markdown",
      "metadata": {
        "id": "LbZxFTmO24YB"
      },
      "source": [
        "Now, a training data as a tensor of random number between 0 and 9 is created. "
      ]
    },
    {
      "cell_type": "code",
      "execution_count": null,
      "metadata": {
        "id": "H28rQ7LLw06R"
      },
      "outputs": [],
      "source": [
        "from torch.utils.data import TensorDataset"
      ]
    },
    {
      "cell_type": "code",
      "execution_count": null,
      "metadata": {
        "id": "ZOsjveyiww16"
      },
      "outputs": [],
      "source": [
        "import torch.nn as nn\n",
        "import torch.nn.functional as F\n",
        "import torch.optim as optim\n"
      ]
    },
    {
      "cell_type": "code",
      "execution_count": null,
      "metadata": {
        "colab": {
          "base_uri": "https://localhost:8080/",
          "height": 334
        },
        "id": "NsmtplYPMVZd",
        "outputId": "8a9d1f58-d8e9-44aa-c1cc-44ef89dc720e"
      },
      "outputs": [
        {
          "output_type": "stream",
          "name": "stdout",
          "text": [
            "image size: torch.Size([1, 28, 28])\n",
            "label: 5\n",
            "5\n",
            "10\n"
          ]
        },
        {
          "output_type": "display_data",
          "data": {
            "text/plain": [
              "<Figure size 432x288 with 1 Axes>"
            ],
            "image/png": "[encoded data removed]"
          },
          "metadata": {
            "needs_background": "light"
          }
        }
      ],
      "source": [
        "# this one more method to create image and random number\n",
        "\n",
        "import torch\n",
        "from torch.utils.data import Dataset, DataLoader\n",
        "\n",
        "class TwoInputDataset(Dataset):\n",
        "  def __init__(self, mnist_data, num_samples):\n",
        "    # mnist_data should be a PyTorch dataset for the MNIST dataset\n",
        "    # num_samples is the number of samples to generate\n",
        "    self.mnist_data = mnist_data\n",
        "    self.num_samples = num_samples\n",
        "  \n",
        "  def __len__(self):\n",
        "    return len(self.mnist_data)\n",
        "  \n",
        "  def __getitem__(self, idx):\n",
        "    # Generate a random number between 0 and 9\n",
        "    y = torch.randint(0, 10, (1,)).item()\n",
        "    # Get a random image from the MNIST dataset \n",
        "    x, label = self.mnist_data[idx]\n",
        "    # add minist data label and random number\n",
        "    Add=label+y\n",
        "    return x, y, label, Add\n",
        "\n",
        "# Create a dataset with 1000 samples\n",
        "dataset = TwoInputDataset(train_set, 1000)\n",
        "len(dataset)\n",
        "x_1, y_1, label_1,Add = dataset[0]\n",
        "torch.set_printoptions(linewidth=120)\n",
        "plt.imshow(x_1.squeeze(), cmap='gray')\n",
        "print('image size:', x_1.shape)\n",
        "print('label:',label_1)\n",
        "print(y_1)\n",
        "print(Add)"
      ]
    },
    {
      "cell_type": "code",
      "source": [
        "data_loader = DataLoader(dataset, batch_size=32, shuffle=True)\n",
        "batch_2 = next(iter(data_loader))\n",
        "len(batch_2[0])\n",
        "images,numbers, labels, adds = batch_2\n",
        "images.shape, numbers.shape, labels.shape, adds.shape"
      ],
      "metadata": {
        "colab": {
          "base_uri": "https://localhost:8080/"
        },
        "id": "jmwXLwtkaeY6",
        "outputId": "b99051f3-bc74-4e33-afae-b1ed3cb306ab"
      },
      "execution_count": null,
      "outputs": [
        {
          "output_type": "execute_result",
          "data": {
            "text/plain": [
              "(torch.Size([32, 1, 28, 28]),\n",
              " torch.Size([32]),\n",
              " torch.Size([32]),\n",
              " torch.Size([32]))"
            ]
          },
          "metadata": {},
          "execution_count": 10
        }
      ]
    },
    {
      "cell_type": "code",
      "source": [
        "grid = torchvision.utils.make_grid(images, nrow=10)\n",
        "plt.figure(figsize=(15,15))\n",
        "plt.imshow(np.transpose(grid, (1,2,0)))\n",
        "print('labels:', labels)    #### see the labels\n",
        "print('numbers:', numbers)  #### see the numbers\n",
        "print('adds:',adds)         ### see the adds"
      ],
      "metadata": {
        "colab": {
          "base_uri": "https://localhost:8080/",
          "height": 439
        },
        "id": "Y_AyFc8db8ka",
        "outputId": "f2567cf1-95fe-47a0-c6c9-de9b1a3e6a83"
      },
      "execution_count": null,
      "outputs": [
        {
          "output_type": "stream",
          "name": "stdout",
          "text": [
            "labels: tensor([9, 9, 0, 7, 7, 9, 1, 8, 0, 1, 2, 8, 7, 1, 0, 7, 8, 1, 0, 5, 0, 2, 9, 7, 9, 3, 8, 1, 1, 0, 7, 5])\n",
            "numbers: tensor([3, 2, 3, 7, 1, 4, 3, 3, 9, 4, 5, 3, 2, 0, 4, 7, 1, 8, 8, 8, 9, 1, 1, 7, 3, 2, 0, 7, 8, 3, 1, 5])\n",
            "adds: tensor([12, 11,  3, 14,  8, 13,  4, 11,  9,  5,  7, 11,  9,  1,  4, 14,  9,  9,  8, 13,  9,  3, 10, 14, 12,  5,  8,  8,\n",
            "         9,  3,  8, 10])\n"
          ]
        },
        {
          "output_type": "display_data",
          "data": {
            "text/plain": [
              "<Figure size 1080x1080 with 1 Axes>"
            ],
            "image/png": "[encoded data removed]"
          },
          "metadata": {
            "needs_background": "light"
          }
        }
      ]
    },
    {
      "cell_type": "code",
      "execution_count": null,
      "metadata": {
        "colab": {
          "base_uri": "https://localhost:8080/"
        },
        "id": "e_sXL6Z2LEJp",
        "outputId": "11d41d1d-5a38-4865-c71c-31949b5892e5"
      },
      "outputs": [
        {
          "output_type": "execute_result",
          "data": {
            "text/plain": [
              "(tensor([[ 0.0116,  0.1237, -0.0927,  0.0014,  0.0957,  0.0002,  0.0066,  0.0897, -0.1390, -0.0485]],\n",
              "        grad_fn=<AddmmBackward0>),\n",
              " tensor([[ 0.0463,  0.0401,  0.1230,  0.0374, -0.0308, -0.1244,  0.0455, -0.0012, -0.0979,  0.1104, -0.0646,  0.0447,\n",
              "           0.0577,  0.0867, -0.0645,  0.0020, -0.0794, -0.0316]], grad_fn=<AddmmBackward0>))"
            ]
          },
          "metadata": {},
          "execution_count": 12
        }
      ],
      "source": [
        "class Network(nn.Module):\n",
        "  def __init__(self):\n",
        "    super().__init__()\n",
        "    self.conv1 = nn.Conv2d(in_channels=1, out_channels=6, kernel_size=5) \n",
        "    self.conv2 = nn.Conv2d(in_channels=6, out_channels=12, kernel_size=5)\n",
        "    self.fc1 = nn.Linear(in_features=12 * 4 * 4, out_features=120)\n",
        "    self.fc2 = nn.Linear(in_features=120, out_features=60)\n",
        "    self.out1 = nn.Linear(in_features=60, out_features=10)\n",
        "    self.out2 = nn.Linear(in_features=60, out_features=18)\n",
        "  \n",
        "  def forward(self, t, t1):\n",
        "    # input layer\n",
        "    x = t\n",
        "    # conv1 layer\n",
        "    x = self.conv1(x) # 28 > 24\n",
        "    x = F.relu(x)\n",
        "    x = F.max_pool2d(x, kernel_size=2, stride=2) # 28 | 24 | 12\n",
        "    # conv2 layer\n",
        "    x = self.conv2(x) # 12\n",
        "    x = F.relu(x) # 8\n",
        "    x = F.max_pool2d(x, kernel_size=2, stride=2) # 12 | 8 | 4 >> 12x4x4\n",
        "    # reshapre\n",
        "    x = x.reshape(-1, 12 * 4 * 4)\n",
        "    # fc1 layer\n",
        "    x = self.fc1(x)\n",
        "    y2=x+t1\n",
        "    x = F.relu(x)\n",
        "    y2 = F.relu(x)\n",
        "    # fc2 layer\n",
        "    x = self.fc2(x)\n",
        "    x = F.relu(x)\n",
        "    y2 = self.fc2(y2)\n",
        "    y2 = F.relu(y2)\n",
        "    # output layer\n",
        "    out1 = self.out1(x)\n",
        "    out2= self.out2(y2)\n",
        "    # x = F.softmax(x, dim=1)\n",
        "    return out1, out2\n",
        "# Create an instance of the TwoInputTwoOutputNet model\n",
        "model = Network()\n",
        "# Convert y to a tensor\n",
        "y_1 = torch.tensor([y_1])\n",
        "x_1.shape, x_1.unsqueeze(0).shape\n",
        "# Pass the inputs to the model to obtain the outputs\n",
        "pred1,pred2 = model(x_1, y_1)\n",
        "pred1,pred2"
      ]
    },
    {
      "cell_type": "code",
      "source": [
        "F.softmax(pred1, dim=1)"
      ],
      "metadata": {
        "colab": {
          "base_uri": "https://localhost:8080/"
        },
        "id": "Q9h44D3QdDjm",
        "outputId": "d04ca812-f6c5-40f2-ef38-dd267216d809"
      },
      "execution_count": null,
      "outputs": [
        {
          "output_type": "execute_result",
          "data": {
            "text/plain": [
              "tensor([[0.1004, 0.1123, 0.0904, 0.0993, 0.1092, 0.0992, 0.0999, 0.1085, 0.0863, 0.0945]], grad_fn=<SoftmaxBackward0>)"
            ]
          },
          "metadata": {},
          "execution_count": 13
        }
      ]
    },
    {
      "cell_type": "code",
      "source": [
        "F.softmax(pred2, dim=1)"
      ],
      "metadata": {
        "colab": {
          "base_uri": "https://localhost:8080/"
        },
        "id": "p1bXpfkgdLI2",
        "outputId": "a9e4ca03-de6e-4036-de00-bcd0519588d4"
      },
      "execution_count": null,
      "outputs": [
        {
          "output_type": "execute_result",
          "data": {
            "text/plain": [
              "tensor([[0.0577, 0.0574, 0.0623, 0.0572, 0.0534, 0.0487, 0.0577, 0.0550, 0.0500, 0.0616, 0.0517, 0.0576, 0.0584, 0.0601,\n",
              "         0.0517, 0.0552, 0.0509, 0.0534]], grad_fn=<SoftmaxBackward0>)"
            ]
          },
          "metadata": {},
          "execution_count": 14
        }
      ]
    },
    {
      "cell_type": "code",
      "source": [
        "def get_num_correct1(pred1, labels):\n",
        "  return pred1.argmax(dim=1).eq(labels).sum().item()"
      ],
      "metadata": {
        "id": "lSeBwWcyeRX4"
      },
      "execution_count": null,
      "outputs": []
    },
    {
      "cell_type": "code",
      "source": [
        "def get_num_correct2(pred2, labels):\n",
        "  return pred2.argmax(dim=1).eq(labels).sum().item()"
      ],
      "metadata": {
        "id": "c5lQf1l4eghD"
      },
      "execution_count": null,
      "outputs": []
    },
    {
      "cell_type": "code",
      "source": [],
      "metadata": {
        "id": "Mazcuw8i1WWk"
      },
      "execution_count": null,
      "outputs": []
    },
    {
      "cell_type": "code",
      "source": [
        "torch.set_grad_enabled(True) "
      ],
      "metadata": {
        "colab": {
          "base_uri": "https://localhost:8080/"
        },
        "id": "HL7LDadmhey1",
        "outputId": "75fa164b-eae7-4b36-b846-f84d6c758125"
      },
      "execution_count": null,
      "outputs": [
        {
          "output_type": "execute_result",
          "data": {
            "text/plain": [
              "<torch.autograd.grad_mode.set_grad_enabled at 0x7fa0a44f83d0>"
            ]
          },
          "metadata": {},
          "execution_count": 17
        }
      ]
    },
    {
      "cell_type": "code",
      "source": [
        "# Use the GPU \n",
        "device = torch.device(\"GPU\")"
      ],
      "metadata": {
        "id": "C_JtzaDhdAsV"
      },
      "execution_count": null,
      "outputs": []
    },
    {
      "cell_type": "code",
      "source": [
        "data_loader = DataLoader(dataset, batch_size=32, shuffle=True)\n",
        "for x_batch, y_batch, label_batch, Add_batch in data_loader:\n",
        "    # Move the data to the correct device\n",
        "    x_batch = x_batch.to(device)\n",
        "    \n",
        "    y_batch = y_batch.to(device)\n",
        "    label_batch = label_batch.to(device)\n",
        "    Add_batch = Add_batch.to(device)\n",
        "    break\n"
      ],
      "metadata": {
        "id": "kj_BxYvcf2AN"
      },
      "execution_count": null,
      "outputs": []
    },
    {
      "cell_type": "code",
      "source": [
        "# Define the loss function and the optimizer\n",
        "\n",
        "optimizer = torch.optim.Adam(model.parameters())\n",
        "data_loader = DataLoader(dataset, batch_size=32, shuffle=True)\n",
        "model.to(device)\n",
        "\n",
        "# Iterate through the data in the data loader\n",
        "for epoch in range(2):\n",
        "  total_loss1=0\n",
        "  total_loss2=0\n",
        "  total_correct1=0\n",
        "  total_correct2=0\n",
        "\n",
        "  for x_batch, y_batch, label_batch, Add_batch in data_loader:\n",
        "    # Move the data to the correct device\n",
        "    x_batch = x_batch.to(device)\n",
        "    y_batch = y_batch.to(device)          # Get Batch\n",
        "    label_batch = label_batch.to(device)\n",
        "    Add_batch = Add_batch.to(device)\n",
        "    \n",
        "    # Make predictions\n",
        "    preds1, preds2 = model(x_batch, y_batch)    # Pass Batch       \n",
        "    \n",
        "    # Compute the loss\n",
        "    loss1 = F.cross_entropy(preds1, label_batch)\n",
        "    loss2 = F.cross_entropy(preds2, Add_batch)\n",
        "    loss = loss1 + loss2\n",
        "    optimizer.zero_grad()\n",
        "    \n",
        "    # Backpropagate the gradients\n",
        "    loss.backward()       # Calculate Gradients\n",
        "    \n",
        "    # Update the model's parameters\n",
        "    optimizer.step()       # Update Weights\n",
        "    total_loss1 += loss1.item()\n",
        "    total_loss2 += loss2.item()\n",
        "\n",
        "    total_correct1 += get_num_correct1(preds1, label_batch)\n",
        "    total_correct2 += get_num_correct2(preds2, Add_batch)\n",
        "    print(\n",
        "      \"epoch:\", epoch, \n",
        "      \"total_correct1:\", total_correct1, \n",
        "      \"loss1:\", total_loss1,\n",
        "      \"total_correct2:\", total_correct2, \n",
        "      \"loss2:\", total_loss2\n",
        "      )\n",
        "    \n"
      ],
      "metadata": {
        "id": "4-H0bht6jT_3",
        "colab": {
          "base_uri": "https://localhost:8080/",
          "height": 398
        },
        "outputId": "339b4241-7ad0-4a00-888f-2429c5407647"
      },
      "execution_count": null,
      "outputs": [
        {
          "output_type": "error",
          "ename": "RuntimeError",
          "evalue": "ignored",
          "traceback": [
            "\u001b[0;31m---------------------------------------------------------------------------\u001b[0m",
            "\u001b[0;31mRuntimeError\u001b[0m                              Traceback (most recent call last)",
            "\u001b[0;32m<ipython-input-20-f900ecc6fc72>\u001b[0m in \u001b[0;36m<module>\u001b[0;34m\u001b[0m\n\u001b[1;32m     20\u001b[0m \u001b[0;34m\u001b[0m\u001b[0m\n\u001b[1;32m     21\u001b[0m     \u001b[0;31m# Make predictions\u001b[0m\u001b[0;34m\u001b[0m\u001b[0;34m\u001b[0m\u001b[0;34m\u001b[0m\u001b[0m\n\u001b[0;32m---> 22\u001b[0;31m     \u001b[0mpreds1\u001b[0m\u001b[0;34m,\u001b[0m \u001b[0mpreds2\u001b[0m \u001b[0;34m=\u001b[0m \u001b[0mmodel\u001b[0m\u001b[0;34m(\u001b[0m\u001b[0mx_batch\u001b[0m\u001b[0;34m,\u001b[0m \u001b[0my_batch\u001b[0m\u001b[0;34m)\u001b[0m    \u001b[0;31m# Pass Batch\u001b[0m\u001b[0;34m\u001b[0m\u001b[0;34m\u001b[0m\u001b[0m\n\u001b[0m\u001b[1;32m     23\u001b[0m \u001b[0;34m\u001b[0m\u001b[0m\n\u001b[1;32m     24\u001b[0m     \u001b[0;31m# Compute the loss\u001b[0m\u001b[0;34m\u001b[0m\u001b[0;34m\u001b[0m\u001b[0;34m\u001b[0m\u001b[0m\n",
            "\u001b[0;32m/usr/local/lib/python3.8/dist-packages/torch/nn/modules/module.py\u001b[0m in \u001b[0;36m_call_impl\u001b[0;34m(self, *input, **kwargs)\u001b[0m\n\u001b[1;32m   1188\u001b[0m         if not (self._backward_hooks or self._forward_hooks or self._forward_pre_hooks or _global_backward_hooks\n\u001b[1;32m   1189\u001b[0m                 or _global_forward_hooks or _global_forward_pre_hooks):\n\u001b[0;32m-> 1190\u001b[0;31m             \u001b[0;32mreturn\u001b[0m \u001b[0mforward_call\u001b[0m\u001b[0;34m(\u001b[0m\u001b[0;34m*\u001b[0m\u001b[0minput\u001b[0m\u001b[0;34m,\u001b[0m \u001b[0;34m**\u001b[0m\u001b[0mkwargs\u001b[0m\u001b[0;34m)\u001b[0m\u001b[0;34m\u001b[0m\u001b[0;34m\u001b[0m\u001b[0m\n\u001b[0m\u001b[1;32m   1191\u001b[0m         \u001b[0;31m# Do not call functions when jit is used\u001b[0m\u001b[0;34m\u001b[0m\u001b[0;34m\u001b[0m\u001b[0;34m\u001b[0m\u001b[0m\n\u001b[1;32m   1192\u001b[0m         \u001b[0mfull_backward_hooks\u001b[0m\u001b[0;34m,\u001b[0m \u001b[0mnon_full_backward_hooks\u001b[0m \u001b[0;34m=\u001b[0m \u001b[0;34m[\u001b[0m\u001b[0;34m]\u001b[0m\u001b[0;34m,\u001b[0m \u001b[0;34m[\u001b[0m\u001b[0;34m]\u001b[0m\u001b[0;34m\u001b[0m\u001b[0;34m\u001b[0m\u001b[0m\n",
            "\u001b[0;32m<ipython-input-12-165d1deda316>\u001b[0m in \u001b[0;36mforward\u001b[0;34m(self, t, t1)\u001b[0m\n\u001b[1;32m     24\u001b[0m     \u001b[0;31m# fc1 layer\u001b[0m\u001b[0;34m\u001b[0m\u001b[0;34m\u001b[0m\u001b[0;34m\u001b[0m\u001b[0m\n\u001b[1;32m     25\u001b[0m     \u001b[0mx\u001b[0m \u001b[0;34m=\u001b[0m \u001b[0mself\u001b[0m\u001b[0;34m.\u001b[0m\u001b[0mfc1\u001b[0m\u001b[0;34m(\u001b[0m\u001b[0mx\u001b[0m\u001b[0;34m)\u001b[0m\u001b[0;34m\u001b[0m\u001b[0;34m\u001b[0m\u001b[0m\n\u001b[0;32m---> 26\u001b[0;31m     \u001b[0my2\u001b[0m\u001b[0;34m=\u001b[0m\u001b[0mx\u001b[0m\u001b[0;34m+\u001b[0m\u001b[0mt1\u001b[0m\u001b[0;34m\u001b[0m\u001b[0;34m\u001b[0m\u001b[0m\n\u001b[0m\u001b[1;32m     27\u001b[0m     \u001b[0mx\u001b[0m \u001b[0;34m=\u001b[0m \u001b[0mF\u001b[0m\u001b[0;34m.\u001b[0m\u001b[0mrelu\u001b[0m\u001b[0;34m(\u001b[0m\u001b[0mx\u001b[0m\u001b[0;34m)\u001b[0m\u001b[0;34m\u001b[0m\u001b[0;34m\u001b[0m\u001b[0m\n\u001b[1;32m     28\u001b[0m     \u001b[0my2\u001b[0m \u001b[0;34m=\u001b[0m \u001b[0mF\u001b[0m\u001b[0;34m.\u001b[0m\u001b[0mrelu\u001b[0m\u001b[0;34m(\u001b[0m\u001b[0mx\u001b[0m\u001b[0;34m)\u001b[0m\u001b[0;34m\u001b[0m\u001b[0;34m\u001b[0m\u001b[0m\n",
            "\u001b[0;31mRuntimeError\u001b[0m: The size of tensor a (120) must match the size of tensor b (32) at non-singleton dimension 1"
          ]
        }
      ]
    }
  ],
  "metadata": {
    "accelerator": "GPU",
    "colab": {
      "provenance": [],
      "authorship_tag": "ABX9TyMt67CuVA6xF1B2DeCS7J0I",
      "include_colab_link": true
    },
    "gpuClass": "standard",
    "kernelspec": {
      "display_name": "Python 3",
      "name": "python3"
    },
    "language_info": {
      "name": "python"
    },
    "widgets": {
      "application/vnd.jupyter.widget-state+json": {
        "d951b9fe87394c4e95bc298c9e369065": {
          "model_module": "@jupyter-widgets/controls",
          "model_name": "HBoxModel",
          "model_module_version": "1.5.0",
          "state": {
            "_dom_classes": [],
            "_model_module": "@jupyter-widgets/controls",
            "_model_module_version": "1.5.0",
            "_model_name": "HBoxModel",
            "_view_count": null,
            "_view_module": "@jupyter-widgets/controls",
            "_view_module_version": "1.5.0",
            "_view_name": "HBoxView",
            "box_style": "",
            "children": [
              "IPY_MODEL_b3e68d621b0d4c059a8dea1d0a4e2284",
              "IPY_MODEL_6e3a8b78f64d486994dbdf1b2c39a943",
              "IPY_MODEL_f241132dbad74a609cfc9315795e1d7a"
            ],
            "layout": "IPY_MODEL_4d41a622be504ebca06b067e4ca8bee8"
          }
        },
        "b3e68d621b0d4c059a8dea1d0a4e2284": {
          "model_module": "@jupyter-widgets/controls",
          "model_name": "HTMLModel",
          "model_module_version": "1.5.0",
          "state": {
            "_dom_classes": [],
            "_model_module": "@jupyter-widgets/controls",
            "_model_module_version": "1.5.0",
            "_model_name": "HTMLModel",
            "_view_count": null,
            "_view_module": "@jupyter-widgets/controls",
            "_view_module_version": "1.5.0",
            "_view_name": "HTMLView",
            "description": "",
            "description_tooltip": null,
            "layout": "IPY_MODEL_d1c0a2f5bb40486d98558f19b972d10a",
            "placeholder": "​",
            "style": "IPY_MODEL_cf6bbcfdb7154e91bf9841049f8c83c5",
            "value": "100%"
          }
        },
        "6e3a8b78f64d486994dbdf1b2c39a943": {
          "model_module": "@jupyter-widgets/controls",
          "model_name": "FloatProgressModel",
          "model_module_version": "1.5.0",
          "state": {
            "_dom_classes": [],
            "_model_module": "@jupyter-widgets/controls",
            "_model_module_version": "1.5.0",
            "_model_name": "FloatProgressModel",
            "_view_count": null,
            "_view_module": "@jupyter-widgets/controls",
            "_view_module_version": "1.5.0",
            "_view_name": "ProgressView",
            "bar_style": "success",
            "description": "",
            "description_tooltip": null,
            "layout": "IPY_MODEL_2386fb16cbf3419591084857367d181c",
            "max": 9912422,
            "min": 0,
            "orientation": "horizontal",
            "style": "IPY_MODEL_c7de6d1a93b344f5beccbf7cb8afaf8d",
            "value": 9912422
          }
        },
        "f241132dbad74a609cfc9315795e1d7a": {
          "model_module": "@jupyter-widgets/controls",
          "model_name": "HTMLModel",
          "model_module_version": "1.5.0",
          "state": {
            "_dom_classes": [],
            "_model_module": "@jupyter-widgets/controls",
            "_model_module_version": "1.5.0",
            "_model_name": "HTMLModel",
            "_view_count": null,
            "_view_module": "@jupyter-widgets/controls",
            "_view_module_version": "1.5.0",
            "_view_name": "HTMLView",
            "description": "",
            "description_tooltip": null,
            "layout": "IPY_MODEL_6221ffb48b494a17afe295d44a0525a1",
            "placeholder": "​",
            "style": "IPY_MODEL_b64ff01db3f546108d3a06404b82e880",
            "value": " 9912422/9912422 [00:00&lt;00:00, 76819340.71it/s]"
          }
        },
        "4d41a622be504ebca06b067e4ca8bee8": {
          "model_module": "@jupyter-widgets/base",
          "model_name": "LayoutModel",
          "model_module_version": "1.2.0",
          "state": {
            "_model_module": "@jupyter-widgets/base",
            "_model_module_version": "1.2.0",
            "_model_name": "LayoutModel",
            "_view_count": null,
            "_view_module": "@jupyter-widgets/base",
            "_view_module_version": "1.2.0",
            "_view_name": "LayoutView",
            "align_content": null,
            "align_items": null,
            "align_self": null,
            "border": null,
            "bottom": null,
            "display": null,
            "flex": null,
            "flex_flow": null,
            "grid_area": null,
            "grid_auto_columns": null,
            "grid_auto_flow": null,
            "grid_auto_rows": null,
            "grid_column": null,
            "grid_gap": null,
            "grid_row": null,
            "grid_template_areas": null,
            "grid_template_columns": null,
            "grid_template_rows": null,
            "height": null,
            "justify_content": null,
            "justify_items": null,
            "left": null,
            "margin": null,
            "max_height": null,
            "max_width": null,
            "min_height": null,
            "min_width": null,
            "object_fit": null,
            "object_position": null,
            "order": null,
            "overflow": null,
            "overflow_x": null,
            "overflow_y": null,
            "padding": null,
            "right": null,
            "top": null,
            "visibility": null,
            "width": null
          }
        },
        "d1c0a2f5bb40486d98558f19b972d10a": {
          "model_module": "@jupyter-widgets/base",
          "model_name": "LayoutModel",
          "model_module_version": "1.2.0",
          "state": {
            "_model_module": "@jupyter-widgets/base",
            "_model_module_version": "1.2.0",
            "_model_name": "LayoutModel",
            "_view_count": null,
            "_view_module": "@jupyter-widgets/base",
            "_view_module_version": "1.2.0",
            "_view_name": "LayoutView",
            "align_content": null,
            "align_items": null,
            "align_self": null,
            "border": null,
            "bottom": null,
            "display": null,
            "flex": null,
            "flex_flow": null,
            "grid_area": null,
            "grid_auto_columns": null,
            "grid_auto_flow": null,
            "grid_auto_rows": null,
            "grid_column": null,
            "grid_gap": null,
            "grid_row": null,
            "grid_template_areas": null,
            "grid_template_columns": null,
            "grid_template_rows": null,
            "height": null,
            "justify_content": null,
            "justify_items": null,
            "left": null,
            "margin": null,
            "max_height": null,
            "max_width": null,
            "min_height": null,
            "min_width": null,
            "object_fit": null,
            "object_position": null,
            "order": null,
            "overflow": null,
            "overflow_x": null,
            "overflow_y": null,
            "padding": null,
            "right": null,
            "top": null,
            "visibility": null,
            "width": null
          }
        },
        "cf6bbcfdb7154e91bf9841049f8c83c5": {
          "model_module": "@jupyter-widgets/controls",
          "model_name": "DescriptionStyleModel",
          "model_module_version": "1.5.0",
          "state": {
            "_model_module": "@jupyter-widgets/controls",
            "_model_module_version": "1.5.0",
            "_model_name": "DescriptionStyleModel",
            "_view_count": null,
            "_view_module": "@jupyter-widgets/base",
            "_view_module_version": "1.2.0",
            "_view_name": "StyleView",
            "description_width": ""
          }
        },
        "2386fb16cbf3419591084857367d181c": {
          "model_module": "@jupyter-widgets/base",
          "model_name": "LayoutModel",
          "model_module_version": "1.2.0",
          "state": {
            "_model_module": "@jupyter-widgets/base",
            "_model_module_version": "1.2.0",
            "_model_name": "LayoutModel",
            "_view_count": null,
            "_view_module": "@jupyter-widgets/base",
            "_view_module_version": "1.2.0",
            "_view_name": "LayoutView",
            "align_content": null,
            "align_items": null,
            "align_self": null,
            "border": null,
            "bottom": null,
            "display": null,
            "flex": null,
            "flex_flow": null,
            "grid_area": null,
            "grid_auto_columns": null,
            "grid_auto_flow": null,
            "grid_auto_rows": null,
            "grid_column": null,
            "grid_gap": null,
            "grid_row": null,
            "grid_template_areas": null,
            "grid_template_columns": null,
            "grid_template_rows": null,
            "height": null,
            "justify_content": null,
            "justify_items": null,
            "left": null,
            "margin": null,
            "max_height": null,
            "max_width": null,
            "min_height": null,
            "min_width": null,
            "object_fit": null,
            "object_position": null,
            "order": null,
            "overflow": null,
            "overflow_x": null,
            "overflow_y": null,
            "padding": null,
            "right": null,
            "top": null,
            "visibility": null,
            "width": null
          }
        },
        "c7de6d1a93b344f5beccbf7cb8afaf8d": {
          "model_module": "@jupyter-widgets/controls",
          "model_name": "ProgressStyleModel",
          "model_module_version": "1.5.0",
          "state": {
            "_model_module": "@jupyter-widgets/controls",
            "_model_module_version": "1.5.0",
            "_model_name": "ProgressStyleModel",
            "_view_count": null,
            "_view_module": "@jupyter-widgets/base",
            "_view_module_version": "1.2.0",
            "_view_name": "StyleView",
            "bar_color": null,
            "description_width": ""
          }
        },
        "6221ffb48b494a17afe295d44a0525a1": {
          "model_module": "@jupyter-widgets/base",
          "model_name": "LayoutModel",
          "model_module_version": "1.2.0",
          "state": {
            "_model_module": "@jupyter-widgets/base",
            "_model_module_version": "1.2.0",
            "_model_name": "LayoutModel",
            "_view_count": null,
            "_view_module": "@jupyter-widgets/base",
            "_view_module_version": "1.2.0",
            "_view_name": "LayoutView",
            "align_content": null,
            "align_items": null,
            "align_self": null,
            "border": null,
            "bottom": null,
            "display": null,
            "flex": null,
            "flex_flow": null,
            "grid_area": null,
            "grid_auto_columns": null,
            "grid_auto_flow": null,
            "grid_auto_rows": null,
            "grid_column": null,
            "grid_gap": null,
            "grid_row": null,
            "grid_template_areas": null,
            "grid_template_columns": null,
            "grid_template_rows": null,
            "height": null,
            "justify_content": null,
            "justify_items": null,
            "left": null,
            "margin": null,
            "max_height": null,
            "max_width": null,
            "min_height": null,
            "min_width": null,
            "object_fit": null,
            "object_position": null,
            "order": null,
            "overflow": null,
            "overflow_x": null,
            "overflow_y": null,
            "padding": null,
            "right": null,
            "top": null,
            "visibility": null,
            "width": null
          }
        },
        "b64ff01db3f546108d3a06404b82e880": {
          "model_module": "@jupyter-widgets/controls",
          "model_name": "DescriptionStyleModel",
          "model_module_version": "1.5.0",
          "state": {
            "_model_module": "@jupyter-widgets/controls",
            "_model_module_version": "1.5.0",
            "_model_name": "DescriptionStyleModel",
            "_view_count": null,
            "_view_module": "@jupyter-widgets/base",
            "_view_module_version": "1.2.0",
            "_view_name": "StyleView",
            "description_width": ""
          }
        },
        "b90b142abc244ee694c472ebc26884ce": {
          "model_module": "@jupyter-widgets/controls",
          "model_name": "HBoxModel",
          "model_module_version": "1.5.0",
          "state": {
            "_dom_classes": [],
            "_model_module": "@jupyter-widgets/controls",
            "_model_module_version": "1.5.0",
            "_model_name": "HBoxModel",
            "_view_count": null,
            "_view_module": "@jupyter-widgets/controls",
            "_view_module_version": "1.5.0",
            "_view_name": "HBoxView",
            "box_style": "",
            "children": [
              "IPY_MODEL_f9be943014114638a8ba0b2e2c5bb5ac",
              "IPY_MODEL_ea845581968244ad934eacc24bfa9018",
              "IPY_MODEL_f4b2a9a4b5b047eeb1410cd66e30905d"
            ],
            "layout": "IPY_MODEL_ea23e0c3627f4441ab287abb45e8b51a"
          }
        },
        "f9be943014114638a8ba0b2e2c5bb5ac": {
          "model_module": "@jupyter-widgets/controls",
          "model_name": "HTMLModel",
          "model_module_version": "1.5.0",
          "state": {
            "_dom_classes": [],
            "_model_module": "@jupyter-widgets/controls",
            "_model_module_version": "1.5.0",
            "_model_name": "HTMLModel",
            "_view_count": null,
            "_view_module": "@jupyter-widgets/controls",
            "_view_module_version": "1.5.0",
            "_view_name": "HTMLView",
            "description": "",
            "description_tooltip": null,
            "layout": "IPY_MODEL_170db32906c045799ba33c8f4c4701fa",
            "placeholder": "​",
            "style": "IPY_MODEL_2c012fb8bfc148ca8c3bfd45feae181a",
            "value": "100%"
          }
        },
        "ea845581968244ad934eacc24bfa9018": {
          "model_module": "@jupyter-widgets/controls",
          "model_name": "FloatProgressModel",
          "model_module_version": "1.5.0",
          "state": {
            "_dom_classes": [],
            "_model_module": "@jupyter-widgets/controls",
            "_model_module_version": "1.5.0",
            "_model_name": "FloatProgressModel",
            "_view_count": null,
            "_view_module": "@jupyter-widgets/controls",
            "_view_module_version": "1.5.0",
            "_view_name": "ProgressView",
            "bar_style": "success",
            "description": "",
            "description_tooltip": null,
            "layout": "IPY_MODEL_27e411b5f72e4e2d8b51925933aed506",
            "max": 28881,
            "min": 0,
            "orientation": "horizontal",
            "style": "IPY_MODEL_bc10cc5930b2471f9f7a0f084d317cb2",
            "value": 28881
          }
        },
        "f4b2a9a4b5b047eeb1410cd66e30905d": {
          "model_module": "@jupyter-widgets/controls",
          "model_name": "HTMLModel",
          "model_module_version": "1.5.0",
          "state": {
            "_dom_classes": [],
            "_model_module": "@jupyter-widgets/controls",
            "_model_module_version": "1.5.0",
            "_model_name": "HTMLModel",
            "_view_count": null,
            "_view_module": "@jupyter-widgets/controls",
            "_view_module_version": "1.5.0",
            "_view_name": "HTMLView",
            "description": "",
            "description_tooltip": null,
            "layout": "IPY_MODEL_ff63da6f7525447eb932c97505d12b14",
            "placeholder": "​",
            "style": "IPY_MODEL_8dd7bfc6be8245d9a089cd1981891b68",
            "value": " 28881/28881 [00:00&lt;00:00, 1467866.63it/s]"
          }
        },
        "ea23e0c3627f4441ab287abb45e8b51a": {
          "model_module": "@jupyter-widgets/base",
          "model_name": "LayoutModel",
          "model_module_version": "1.2.0",
          "state": {
            "_model_module": "@jupyter-widgets/base",
            "_model_module_version": "1.2.0",
            "_model_name": "LayoutModel",
            "_view_count": null,
            "_view_module": "@jupyter-widgets/base",
            "_view_module_version": "1.2.0",
            "_view_name": "LayoutView",
            "align_content": null,
            "align_items": null,
            "align_self": null,
            "border": null,
            "bottom": null,
            "display": null,
            "flex": null,
            "flex_flow": null,
            "grid_area": null,
            "grid_auto_columns": null,
            "grid_auto_flow": null,
            "grid_auto_rows": null,
            "grid_column": null,
            "grid_gap": null,
            "grid_row": null,
            "grid_template_areas": null,
            "grid_template_columns": null,
            "grid_template_rows": null,
            "height": null,
            "justify_content": null,
            "justify_items": null,
            "left": null,
            "margin": null,
            "max_height": null,
            "max_width": null,
            "min_height": null,
            "min_width": null,
            "object_fit": null,
            "object_position": null,
            "order": null,
            "overflow": null,
            "overflow_x": null,
            "overflow_y": null,
            "padding": null,
            "right": null,
            "top": null,
            "visibility": null,
            "width": null
          }
        },
        "170db32906c045799ba33c8f4c4701fa": {
          "model_module": "@jupyter-widgets/base",
          "model_name": "LayoutModel",
          "model_module_version": "1.2.0",
          "state": {
            "_model_module": "@jupyter-widgets/base",
            "_model_module_version": "1.2.0",
            "_model_name": "LayoutModel",
            "_view_count": null,
            "_view_module": "@jupyter-widgets/base",
            "_view_module_version": "1.2.0",
            "_view_name": "LayoutView",
            "align_content": null,
            "align_items": null,
            "align_self": null,
            "border": null,
            "bottom": null,
            "display": null,
            "flex": null,
            "flex_flow": null,
            "grid_area": null,
            "grid_auto_columns": null,
            "grid_auto_flow": null,
            "grid_auto_rows": null,
            "grid_column": null,
            "grid_gap": null,
            "grid_row": null,
            "grid_template_areas": null,
            "grid_template_columns": null,
            "grid_template_rows": null,
            "height": null,
            "justify_content": null,
            "justify_items": null,
            "left": null,
            "margin": null,
            "max_height": null,
            "max_width": null,
            "min_height": null,
            "min_width": null,
            "object_fit": null,
            "object_position": null,
            "order": null,
            "overflow": null,
            "overflow_x": null,
            "overflow_y": null,
            "padding": null,
            "right": null,
            "top": null,
            "visibility": null,
            "width": null
          }
        },
        "2c012fb8bfc148ca8c3bfd45feae181a": {
          "model_module": "@jupyter-widgets/controls",
          "model_name": "DescriptionStyleModel",
          "model_module_version": "1.5.0",
          "state": {
            "_model_module": "@jupyter-widgets/controls",
            "_model_module_version": "1.5.0",
            "_model_name": "DescriptionStyleModel",
            "_view_count": null,
            "_view_module": "@jupyter-widgets/base",
            "_view_module_version": "1.2.0",
            "_view_name": "StyleView",
            "description_width": ""
          }
        },
        "27e411b5f72e4e2d8b51925933aed506": {
          "model_module": "@jupyter-widgets/base",
          "model_name": "LayoutModel",
          "model_module_version": "1.2.0",
          "state": {
            "_model_module": "@jupyter-widgets/base",
            "_model_module_version": "1.2.0",
            "_model_name": "LayoutModel",
            "_view_count": null,
            "_view_module": "@jupyter-widgets/base",
            "_view_module_version": "1.2.0",
            "_view_name": "LayoutView",
            "align_content": null,
            "align_items": null,
            "align_self": null,
            "border": null,
            "bottom": null,
            "display": null,
            "flex": null,
            "flex_flow": null,
            "grid_area": null,
            "grid_auto_columns": null,
            "grid_auto_flow": null,
            "grid_auto_rows": null,
            "grid_column": null,
            "grid_gap": null,
            "grid_row": null,
            "grid_template_areas": null,
            "grid_template_columns": null,
            "grid_template_rows": null,
            "height": null,
            "justify_content": null,
            "justify_items": null,
            "left": null,
            "margin": null,
            "max_height": null,
            "max_width": null,
            "min_height": null,
            "min_width": null,
            "object_fit": null,
            "object_position": null,
            "order": null,
            "overflow": null,
            "overflow_x": null,
            "overflow_y": null,
            "padding": null,
            "right": null,
            "top": null,
            "visibility": null,
            "width": null
          }
        },
        "bc10cc5930b2471f9f7a0f084d317cb2": {
          "model_module": "@jupyter-widgets/controls",
          "model_name": "ProgressStyleModel",
          "model_module_version": "1.5.0",
          "state": {
            "_model_module": "@jupyter-widgets/controls",
            "_model_module_version": "1.5.0",
            "_model_name": "ProgressStyleModel",
            "_view_count": null,
            "_view_module": "@jupyter-widgets/base",
            "_view_module_version": "1.2.0",
            "_view_name": "StyleView",
            "bar_color": null,
            "description_width": ""
          }
        },
        "ff63da6f7525447eb932c97505d12b14": {
          "model_module": "@jupyter-widgets/base",
          "model_name": "LayoutModel",
          "model_module_version": "1.2.0",
          "state": {
            "_model_module": "@jupyter-widgets/base",
            "_model_module_version": "1.2.0",
            "_model_name": "LayoutModel",
            "_view_count": null,
            "_view_module": "@jupyter-widgets/base",
            "_view_module_version": "1.2.0",
            "_view_name": "LayoutView",
            "align_content": null,
            "align_items": null,
            "align_self": null,
            "border": null,
            "bottom": null,
            "display": null,
            "flex": null,
            "flex_flow": null,
            "grid_area": null,
            "grid_auto_columns": null,
            "grid_auto_flow": null,
            "grid_auto_rows": null,
            "grid_column": null,
            "grid_gap": null,
            "grid_row": null,
            "grid_template_areas": null,
            "grid_template_columns": null,
            "grid_template_rows": null,
            "height": null,
            "justify_content": null,
            "justify_items": null,
            "left": null,
            "margin": null,
            "max_height": null,
            "max_width": null,
            "min_height": null,
            "min_width": null,
            "object_fit": null,
            "object_position": null,
            "order": null,
            "overflow": null,
            "overflow_x": null,
            "overflow_y": null,
            "padding": null,
            "right": null,
            "top": null,
            "visibility": null,
            "width": null
          }
        },
        "8dd7bfc6be8245d9a089cd1981891b68": {
          "model_module": "@jupyter-widgets/controls",
          "model_name": "DescriptionStyleModel",
          "model_module_version": "1.5.0",
          "state": {
            "_model_module": "@jupyter-widgets/controls",
            "_model_module_version": "1.5.0",
            "_model_name": "DescriptionStyleModel",
            "_view_count": null,
            "_view_module": "@jupyter-widgets/base",
            "_view_module_version": "1.2.0",
            "_view_name": "StyleView",
            "description_width": ""
          }
        },
        "c55e98f6330b4a11affb448811b2c6be": {
          "model_module": "@jupyter-widgets/controls",
          "model_name": "HBoxModel",
          "model_module_version": "1.5.0",
          "state": {
            "_dom_classes": [],
            "_model_module": "@jupyter-widgets/controls",
            "_model_module_version": "1.5.0",
            "_model_name": "HBoxModel",
            "_view_count": null,
            "_view_module": "@jupyter-widgets/controls",
            "_view_module_version": "1.5.0",
            "_view_name": "HBoxView",
            "box_style": "",
            "children": [
              "IPY_MODEL_2a0574a534394a9f86f0aef304ee9b58",
              "IPY_MODEL_23e209fb87ea4060b7ec901128b8f6b8",
              "IPY_MODEL_a1f46ed80b974a509c9b59ec90caa54b"
            ],
            "layout": "IPY_MODEL_2b6d03ad72eb4d60977e10082a7ba1ed"
          }
        },
        "2a0574a534394a9f86f0aef304ee9b58": {
          "model_module": "@jupyter-widgets/controls",
          "model_name": "HTMLModel",
          "model_module_version": "1.5.0",
          "state": {
            "_dom_classes": [],
            "_model_module": "@jupyter-widgets/controls",
            "_model_module_version": "1.5.0",
            "_model_name": "HTMLModel",
            "_view_count": null,
            "_view_module": "@jupyter-widgets/controls",
            "_view_module_version": "1.5.0",
            "_view_name": "HTMLView",
            "description": "",
            "description_tooltip": null,
            "layout": "IPY_MODEL_8265306a1d8c4d33b430921eea0ecc2f",
            "placeholder": "​",
            "style": "IPY_MODEL_448c3e0253be497aaf144a0199bb1b4e",
            "value": "100%"
          }
        },
        "23e209fb87ea4060b7ec901128b8f6b8": {
          "model_module": "@jupyter-widgets/controls",
          "model_name": "FloatProgressModel",
          "model_module_version": "1.5.0",
          "state": {
            "_dom_classes": [],
            "_model_module": "@jupyter-widgets/controls",
            "_model_module_version": "1.5.0",
            "_model_name": "FloatProgressModel",
            "_view_count": null,
            "_view_module": "@jupyter-widgets/controls",
            "_view_module_version": "1.5.0",
            "_view_name": "ProgressView",
            "bar_style": "success",
            "description": "",
            "description_tooltip": null,
            "layout": "IPY_MODEL_c69585dc1a5649be8e3dec913add857c",
            "max": 1648877,
            "min": 0,
            "orientation": "horizontal",
            "style": "IPY_MODEL_7339a3f77ba243d9b14c4bb75a462b20",
            "value": 1648877
          }
        },
        "a1f46ed80b974a509c9b59ec90caa54b": {
          "model_module": "@jupyter-widgets/controls",
          "model_name": "HTMLModel",
          "model_module_version": "1.5.0",
          "state": {
            "_dom_classes": [],
            "_model_module": "@jupyter-widgets/controls",
            "_model_module_version": "1.5.0",
            "_model_name": "HTMLModel",
            "_view_count": null,
            "_view_module": "@jupyter-widgets/controls",
            "_view_module_version": "1.5.0",
            "_view_name": "HTMLView",
            "description": "",
            "description_tooltip": null,
            "layout": "IPY_MODEL_853c5bae02fe47118df8cdba406905cd",
            "placeholder": "​",
            "style": "IPY_MODEL_e9107afe57fb40cc8e968c98a496e7d6",
            "value": " 1648877/1648877 [00:00&lt;00:00, 42350835.25it/s]"
          }
        },
        "2b6d03ad72eb4d60977e10082a7ba1ed": {
          "model_module": "@jupyter-widgets/base",
          "model_name": "LayoutModel",
          "model_module_version": "1.2.0",
          "state": {
            "_model_module": "@jupyter-widgets/base",
            "_model_module_version": "1.2.0",
            "_model_name": "LayoutModel",
            "_view_count": null,
            "_view_module": "@jupyter-widgets/base",
            "_view_module_version": "1.2.0",
            "_view_name": "LayoutView",
            "align_content": null,
            "align_items": null,
            "align_self": null,
            "border": null,
            "bottom": null,
            "display": null,
            "flex": null,
            "flex_flow": null,
            "grid_area": null,
            "grid_auto_columns": null,
            "grid_auto_flow": null,
            "grid_auto_rows": null,
            "grid_column": null,
            "grid_gap": null,
            "grid_row": null,
            "grid_template_areas": null,
            "grid_template_columns": null,
            "grid_template_rows": null,
            "height": null,
            "justify_content": null,
            "justify_items": null,
            "left": null,
            "margin": null,
            "max_height": null,
            "max_width": null,
            "min_height": null,
            "min_width": null,
            "object_fit": null,
            "object_position": null,
            "order": null,
            "overflow": null,
            "overflow_x": null,
            "overflow_y": null,
            "padding": null,
            "right": null,
            "top": null,
            "visibility": null,
            "width": null
          }
        },
        "8265306a1d8c4d33b430921eea0ecc2f": {
          "model_module": "@jupyter-widgets/base",
          "model_name": "LayoutModel",
          "model_module_version": "1.2.0",
          "state": {
            "_model_module": "@jupyter-widgets/base",
            "_model_module_version": "1.2.0",
            "_model_name": "LayoutModel",
            "_view_count": null,
            "_view_module": "@jupyter-widgets/base",
            "_view_module_version": "1.2.0",
            "_view_name": "LayoutView",
            "align_content": null,
            "align_items": null,
            "align_self": null,
            "border": null,
            "bottom": null,
            "display": null,
            "flex": null,
            "flex_flow": null,
            "grid_area": null,
            "grid_auto_columns": null,
            "grid_auto_flow": null,
            "grid_auto_rows": null,
            "grid_column": null,
            "grid_gap": null,
            "grid_row": null,
            "grid_template_areas": null,
            "grid_template_columns": null,
            "grid_template_rows": null,
            "height": null,
            "justify_content": null,
            "justify_items": null,
            "left": null,
            "margin": null,
            "max_height": null,
            "max_width": null,
            "min_height": null,
            "min_width": null,
            "object_fit": null,
            "object_position": null,
            "order": null,
            "overflow": null,
            "overflow_x": null,
            "overflow_y": null,
            "padding": null,
            "right": null,
            "top": null,
            "visibility": null,
            "width": null
          }
        },
        "448c3e0253be497aaf144a0199bb1b4e": {
          "model_module": "@jupyter-widgets/controls",
          "model_name": "DescriptionStyleModel",
          "model_module_version": "1.5.0",
          "state": {
            "_model_module": "@jupyter-widgets/controls",
            "_model_module_version": "1.5.0",
            "_model_name": "DescriptionStyleModel",
            "_view_count": null,
            "_view_module": "@jupyter-widgets/base",
            "_view_module_version": "1.2.0",
            "_view_name": "StyleView",
            "description_width": ""
          }
        },
        "c69585dc1a5649be8e3dec913add857c": {
          "model_module": "@jupyter-widgets/base",
          "model_name": "LayoutModel",
          "model_module_version": "1.2.0",
          "state": {
            "_model_module": "@jupyter-widgets/base",
            "_model_module_version": "1.2.0",
            "_model_name": "LayoutModel",
            "_view_count": null,
            "_view_module": "@jupyter-widgets/base",
            "_view_module_version": "1.2.0",
            "_view_name": "LayoutView",
            "align_content": null,
            "align_items": null,
            "align_self": null,
            "border": null,
            "bottom": null,
            "display": null,
            "flex": null,
            "flex_flow": null,
            "grid_area": null,
            "grid_auto_columns": null,
            "grid_auto_flow": null,
            "grid_auto_rows": null,
            "grid_column": null,
            "grid_gap": null,
            "grid_row": null,
            "grid_template_areas": null,
            "grid_template_columns": null,
            "grid_template_rows": null,
            "height": null,
            "justify_content": null,
            "justify_items": null,
            "left": null,
            "margin": null,
            "max_height": null,
            "max_width": null,
            "min_height": null,
            "min_width": null,
            "object_fit": null,
            "object_position": null,
            "order": null,
            "overflow": null,
            "overflow_x": null,
            "overflow_y": null,
            "padding": null,
            "right": null,
            "top": null,
            "visibility": null,
            "width": null
          }
        },
        "7339a3f77ba243d9b14c4bb75a462b20": {
          "model_module": "@jupyter-widgets/controls",
          "model_name": "ProgressStyleModel",
          "model_module_version": "1.5.0",
          "state": {
            "_model_module": "@jupyter-widgets/controls",
            "_model_module_version": "1.5.0",
            "_model_name": "ProgressStyleModel",
            "_view_count": null,
            "_view_module": "@jupyter-widgets/base",
            "_view_module_version": "1.2.0",
            "_view_name": "StyleView",
            "bar_color": null,
            "description_width": ""
          }
        },
        "853c5bae02fe47118df8cdba406905cd": {
          "model_module": "@jupyter-widgets/base",
          "model_name": "LayoutModel",
          "model_module_version": "1.2.0",
          "state": {
            "_model_module": "@jupyter-widgets/base",
            "_model_module_version": "1.2.0",
            "_model_name": "LayoutModel",
            "_view_count": null,
            "_view_module": "@jupyter-widgets/base",
            "_view_module_version": "1.2.0",
            "_view_name": "LayoutView",
            "align_content": null,
            "align_items": null,
            "align_self": null,
            "border": null,
            "bottom": null,
            "display": null,
            "flex": null,
            "flex_flow": null,
            "grid_area": null,
            "grid_auto_columns": null,
            "grid_auto_flow": null,
            "grid_auto_rows": null,
            "grid_column": null,
            "grid_gap": null,
            "grid_row": null,
            "grid_template_areas": null,
            "grid_template_columns": null,
            "grid_template_rows": null,
            "height": null,
            "justify_content": null,
            "justify_items": null,
            "left": null,
            "margin": null,
            "max_height": null,
            "max_width": null,
            "min_height": null,
            "min_width": null,
            "object_fit": null,
            "object_position": null,
            "order": null,
            "overflow": null,
            "overflow_x": null,
            "overflow_y": null,
            "padding": null,
            "right": null,
            "top": null,
            "visibility": null,
            "width": null
          }
        },
        "e9107afe57fb40cc8e968c98a496e7d6": {
          "model_module": "@jupyter-widgets/controls",
          "model_name": "DescriptionStyleModel",
          "model_module_version": "1.5.0",
          "state": {
            "_model_module": "@jupyter-widgets/controls",
            "_model_module_version": "1.5.0",
            "_model_name": "DescriptionStyleModel",
            "_view_count": null,
            "_view_module": "@jupyter-widgets/base",
            "_view_module_version": "1.2.0",
            "_view_name": "StyleView",
            "description_width": ""
          }
        },
        "96cb9b06e1f640b2b5a0d88d8d6b2645": {
          "model_module": "@jupyter-widgets/controls",
          "model_name": "HBoxModel",
          "model_module_version": "1.5.0",
          "state": {
            "_dom_classes": [],
            "_model_module": "@jupyter-widgets/controls",
            "_model_module_version": "1.5.0",
            "_model_name": "HBoxModel",
            "_view_count": null,
            "_view_module": "@jupyter-widgets/controls",
            "_view_module_version": "1.5.0",
            "_view_name": "HBoxView",
            "box_style": "",
            "children": [
              "IPY_MODEL_f5a395f5b2314cba97233f434a52ffe7",
              "IPY_MODEL_55dbe2ee8e514a6bbea56671c28a7dc0",
              "IPY_MODEL_a54cf2811c4842c8aff90851f5b7024a"
            ],
            "layout": "IPY_MODEL_ff1e7ff4d5fc431d807364529e3ed400"
          }
        },
        "f5a395f5b2314cba97233f434a52ffe7": {
          "model_module": "@jupyter-widgets/controls",
          "model_name": "HTMLModel",
          "model_module_version": "1.5.0",
          "state": {
            "_dom_classes": [],
            "_model_module": "@jupyter-widgets/controls",
            "_model_module_version": "1.5.0",
            "_model_name": "HTMLModel",
            "_view_count": null,
            "_view_module": "@jupyter-widgets/controls",
            "_view_module_version": "1.5.0",
            "_view_name": "HTMLView",
            "description": "",
            "description_tooltip": null,
            "layout": "IPY_MODEL_e69fe312c3894e28ac2ef419d5f44af2",
            "placeholder": "​",
            "style": "IPY_MODEL_57736870189d4f6b837ae37831296968",
            "value": "100%"
          }
        },
        "55dbe2ee8e514a6bbea56671c28a7dc0": {
          "model_module": "@jupyter-widgets/controls",
          "model_name": "FloatProgressModel",
          "model_module_version": "1.5.0",
          "state": {
            "_dom_classes": [],
            "_model_module": "@jupyter-widgets/controls",
            "_model_module_version": "1.5.0",
            "_model_name": "FloatProgressModel",
            "_view_count": null,
            "_view_module": "@jupyter-widgets/controls",
            "_view_module_version": "1.5.0",
            "_view_name": "ProgressView",
            "bar_style": "success",
            "description": "",
            "description_tooltip": null,
            "layout": "IPY_MODEL_8ac8e6735ddc4f80a102168dec277d89",
            "max": 4542,
            "min": 0,
            "orientation": "horizontal",
            "style": "IPY_MODEL_b8e3585f170b45039ff30d1285eab9f2",
            "value": 4542
          }
        },
        "a54cf2811c4842c8aff90851f5b7024a": {
          "model_module": "@jupyter-widgets/controls",
          "model_name": "HTMLModel",
          "model_module_version": "1.5.0",
          "state": {
            "_dom_classes": [],
            "_model_module": "@jupyter-widgets/controls",
            "_model_module_version": "1.5.0",
            "_model_name": "HTMLModel",
            "_view_count": null,
            "_view_module": "@jupyter-widgets/controls",
            "_view_module_version": "1.5.0",
            "_view_name": "HTMLView",
            "description": "",
            "description_tooltip": null,
            "layout": "IPY_MODEL_a1dd38398f504b6c9671b3cb7e31a574",
            "placeholder": "​",
            "style": "IPY_MODEL_931daafabb9846e3b1d9551f39af55ff",
            "value": " 4542/4542 [00:00&lt;00:00, 222189.51it/s]"
          }
        },
        "ff1e7ff4d5fc431d807364529e3ed400": {
          "model_module": "@jupyter-widgets/base",
          "model_name": "LayoutModel",
          "model_module_version": "1.2.0",
          "state": {
            "_model_module": "@jupyter-widgets/base",
            "_model_module_version": "1.2.0",
            "_model_name": "LayoutModel",
            "_view_count": null,
            "_view_module": "@jupyter-widgets/base",
            "_view_module_version": "1.2.0",
            "_view_name": "LayoutView",
            "align_content": null,
            "align_items": null,
            "align_self": null,
            "border": null,
            "bottom": null,
            "display": null,
            "flex": null,
            "flex_flow": null,
            "grid_area": null,
            "grid_auto_columns": null,
            "grid_auto_flow": null,
            "grid_auto_rows": null,
            "grid_column": null,
            "grid_gap": null,
            "grid_row": null,
            "grid_template_areas": null,
            "grid_template_columns": null,
            "grid_template_rows": null,
            "height": null,
            "justify_content": null,
            "justify_items": null,
            "left": null,
            "margin": null,
            "max_height": null,
            "max_width": null,
            "min_height": null,
            "min_width": null,
            "object_fit": null,
            "object_position": null,
            "order": null,
            "overflow": null,
            "overflow_x": null,
            "overflow_y": null,
            "padding": null,
            "right": null,
            "top": null,
            "visibility": null,
            "width": null
          }
        },
        "e69fe312c3894e28ac2ef419d5f44af2": {
          "model_module": "@jupyter-widgets/base",
          "model_name": "LayoutModel",
          "model_module_version": "1.2.0",
          "state": {
            "_model_module": "@jupyter-widgets/base",
            "_model_module_version": "1.2.0",
            "_model_name": "LayoutModel",
            "_view_count": null,
            "_view_module": "@jupyter-widgets/base",
            "_view_module_version": "1.2.0",
            "_view_name": "LayoutView",
            "align_content": null,
            "align_items": null,
            "align_self": null,
            "border": null,
            "bottom": null,
            "display": null,
            "flex": null,
            "flex_flow": null,
            "grid_area": null,
            "grid_auto_columns": null,
            "grid_auto_flow": null,
            "grid_auto_rows": null,
            "grid_column": null,
            "grid_gap": null,
            "grid_row": null,
            "grid_template_areas": null,
            "grid_template_columns": null,
            "grid_template_rows": null,
            "height": null,
            "justify_content": null,
            "justify_items": null,
            "left": null,
            "margin": null,
            "max_height": null,
            "max_width": null,
            "min_height": null,
            "min_width": null,
            "object_fit": null,
            "object_position": null,
            "order": null,
            "overflow": null,
            "overflow_x": null,
            "overflow_y": null,
            "padding": null,
            "right": null,
            "top": null,
            "visibility": null,
            "width": null
          }
        },
        "57736870189d4f6b837ae37831296968": {
          "model_module": "@jupyter-widgets/controls",
          "model_name": "DescriptionStyleModel",
          "model_module_version": "1.5.0",
          "state": {
            "_model_module": "@jupyter-widgets/controls",
            "_model_module_version": "1.5.0",
            "_model_name": "DescriptionStyleModel",
            "_view_count": null,
            "_view_module": "@jupyter-widgets/base",
            "_view_module_version": "1.2.0",
            "_view_name": "StyleView",
            "description_width": ""
          }
        },
        "8ac8e6735ddc4f80a102168dec277d89": {
          "model_module": "@jupyter-widgets/base",
          "model_name": "LayoutModel",
          "model_module_version": "1.2.0",
          "state": {
            "_model_module": "@jupyter-widgets/base",
            "_model_module_version": "1.2.0",
            "_model_name": "LayoutModel",
            "_view_count": null,
            "_view_module": "@jupyter-widgets/base",
            "_view_module_version": "1.2.0",
            "_view_name": "LayoutView",
            "align_content": null,
            "align_items": null,
            "align_self": null,
            "border": null,
            "bottom": null,
            "display": null,
            "flex": null,
            "flex_flow": null,
            "grid_area": null,
            "grid_auto_columns": null,
            "grid_auto_flow": null,
            "grid_auto_rows": null,
            "grid_column": null,
            "grid_gap": null,
            "grid_row": null,
            "grid_template_areas": null,
            "grid_template_columns": null,
            "grid_template_rows": null,
            "height": null,
            "justify_content": null,
            "justify_items": null,
            "left": null,
            "margin": null,
            "max_height": null,
            "max_width": null,
            "min_height": null,
            "min_width": null,
            "object_fit": null,
            "object_position": null,
            "order": null,
            "overflow": null,
            "overflow_x": null,
            "overflow_y": null,
            "padding": null,
            "right": null,
            "top": null,
            "visibility": null,
            "width": null
          }
        },
        "b8e3585f170b45039ff30d1285eab9f2": {
          "model_module": "@jupyter-widgets/controls",
          "model_name": "ProgressStyleModel",
          "model_module_version": "1.5.0",
          "state": {
            "_model_module": "@jupyter-widgets/controls",
            "_model_module_version": "1.5.0",
            "_model_name": "ProgressStyleModel",
            "_view_count": null,
            "_view_module": "@jupyter-widgets/base",
            "_view_module_version": "1.2.0",
            "_view_name": "StyleView",
            "bar_color": null,
            "description_width": ""
          }
        },
        "a1dd38398f504b6c9671b3cb7e31a574": {
          "model_module": "@jupyter-widgets/base",
          "model_name": "LayoutModel",
          "model_module_version": "1.2.0",
          "state": {
            "_model_module": "@jupyter-widgets/base",
            "_model_module_version": "1.2.0",
            "_model_name": "LayoutModel",
            "_view_count": null,
            "_view_module": "@jupyter-widgets/base",
            "_view_module_version": "1.2.0",
            "_view_name": "LayoutView",
            "align_content": null,
            "align_items": null,
            "align_self": null,
            "border": null,
            "bottom": null,
            "display": null,
            "flex": null,
            "flex_flow": null,
            "grid_area": null,
            "grid_auto_columns": null,
            "grid_auto_flow": null,
            "grid_auto_rows": null,
            "grid_column": null,
            "grid_gap": null,
            "grid_row": null,
            "grid_template_areas": null,
            "grid_template_columns": null,
            "grid_template_rows": null,
            "height": null,
            "justify_content": null,
            "justify_items": null,
            "left": null,
            "margin": null,
            "max_height": null,
            "max_width": null,
            "min_height": null,
            "min_width": null,
            "object_fit": null,
            "object_position": null,
            "order": null,
            "overflow": null,
            "overflow_x": null,
            "overflow_y": null,
            "padding": null,
            "right": null,
            "top": null,
            "visibility": null,
            "width": null
          }
        },
        "931daafabb9846e3b1d9551f39af55ff": {
          "model_module": "@jupyter-widgets/controls",
          "model_name": "DescriptionStyleModel",
          "model_module_version": "1.5.0",
          "state": {
            "_model_module": "@jupyter-widgets/controls",
            "_model_module_version": "1.5.0",
            "_model_name": "DescriptionStyleModel",
            "_view_count": null,
            "_view_module": "@jupyter-widgets/base",
            "_view_module_version": "1.2.0",
            "_view_name": "StyleView",
            "description_width": ""
          }
        }
      }
    }
  },
  "nbformat": 4,
  "nbformat_minor": 0
}